{
 "cells": [
  {
   "cell_type": "code",
   "execution_count": 1,
   "id": "ee386199",
   "metadata": {},
   "outputs": [],
   "source": [
    "import pandas as pd\n",
    "import numpy as np\n",
    "import matplotlib.pyplot as plt\n",
    "import seaborn as sns"
   ]
  },
  {
   "cell_type": "code",
   "execution_count": 2,
   "id": "5b32f7d5",
   "metadata": {},
   "outputs": [
    {
     "data": {
      "text/html": [
       "<div>\n",
       "<style scoped>\n",
       "    .dataframe tbody tr th:only-of-type {\n",
       "        vertical-align: middle;\n",
       "    }\n",
       "\n",
       "    .dataframe tbody tr th {\n",
       "        vertical-align: top;\n",
       "    }\n",
       "\n",
       "    .dataframe thead th {\n",
       "        text-align: right;\n",
       "    }\n",
       "</style>\n",
       "<table border=\"1\" class=\"dataframe\">\n",
       "  <thead>\n",
       "    <tr style=\"text-align: right;\">\n",
       "      <th></th>\n",
       "      <th>Gender</th>\n",
       "      <th>Age</th>\n",
       "      <th>Senior Citizen</th>\n",
       "      <th>Married</th>\n",
       "      <th>Dependents</th>\n",
       "      <th>Referred a Friend</th>\n",
       "      <th>Number of Referrals</th>\n",
       "      <th>Tenure in Months</th>\n",
       "      <th>Phone Service</th>\n",
       "      <th>Avg Monthly Long Distance Charges</th>\n",
       "      <th>...</th>\n",
       "      <th>Total Refunds</th>\n",
       "      <th>Total Extra Data Charges</th>\n",
       "      <th>Total Long Distance Charges</th>\n",
       "      <th>Satisfaction Score</th>\n",
       "      <th>Churn Label</th>\n",
       "      <th>CLTV</th>\n",
       "      <th>Contract_One Year</th>\n",
       "      <th>Contract_Two Year</th>\n",
       "      <th>Payment Method_Credit Card</th>\n",
       "      <th>Payment Method_Mailed Check</th>\n",
       "    </tr>\n",
       "  </thead>\n",
       "  <tbody>\n",
       "    <tr>\n",
       "      <th>0</th>\n",
       "      <td>1</td>\n",
       "      <td>78</td>\n",
       "      <td>1</td>\n",
       "      <td>0</td>\n",
       "      <td>0</td>\n",
       "      <td>0</td>\n",
       "      <td>0</td>\n",
       "      <td>1</td>\n",
       "      <td>0</td>\n",
       "      <td>0.00</td>\n",
       "      <td>...</td>\n",
       "      <td>0.00</td>\n",
       "      <td>20</td>\n",
       "      <td>0.00</td>\n",
       "      <td>3</td>\n",
       "      <td>1</td>\n",
       "      <td>5433</td>\n",
       "      <td>0</td>\n",
       "      <td>0</td>\n",
       "      <td>0</td>\n",
       "      <td>0</td>\n",
       "    </tr>\n",
       "    <tr>\n",
       "      <th>1</th>\n",
       "      <td>0</td>\n",
       "      <td>74</td>\n",
       "      <td>1</td>\n",
       "      <td>1</td>\n",
       "      <td>1</td>\n",
       "      <td>1</td>\n",
       "      <td>1</td>\n",
       "      <td>8</td>\n",
       "      <td>1</td>\n",
       "      <td>48.85</td>\n",
       "      <td>...</td>\n",
       "      <td>0.00</td>\n",
       "      <td>0</td>\n",
       "      <td>390.80</td>\n",
       "      <td>3</td>\n",
       "      <td>1</td>\n",
       "      <td>5302</td>\n",
       "      <td>0</td>\n",
       "      <td>0</td>\n",
       "      <td>1</td>\n",
       "      <td>0</td>\n",
       "    </tr>\n",
       "    <tr>\n",
       "      <th>2</th>\n",
       "      <td>1</td>\n",
       "      <td>71</td>\n",
       "      <td>1</td>\n",
       "      <td>0</td>\n",
       "      <td>1</td>\n",
       "      <td>0</td>\n",
       "      <td>0</td>\n",
       "      <td>18</td>\n",
       "      <td>1</td>\n",
       "      <td>11.33</td>\n",
       "      <td>...</td>\n",
       "      <td>45.61</td>\n",
       "      <td>0</td>\n",
       "      <td>203.94</td>\n",
       "      <td>2</td>\n",
       "      <td>1</td>\n",
       "      <td>3179</td>\n",
       "      <td>0</td>\n",
       "      <td>0</td>\n",
       "      <td>0</td>\n",
       "      <td>0</td>\n",
       "    </tr>\n",
       "    <tr>\n",
       "      <th>3</th>\n",
       "      <td>0</td>\n",
       "      <td>78</td>\n",
       "      <td>1</td>\n",
       "      <td>1</td>\n",
       "      <td>1</td>\n",
       "      <td>1</td>\n",
       "      <td>1</td>\n",
       "      <td>25</td>\n",
       "      <td>1</td>\n",
       "      <td>19.76</td>\n",
       "      <td>...</td>\n",
       "      <td>13.43</td>\n",
       "      <td>0</td>\n",
       "      <td>494.00</td>\n",
       "      <td>2</td>\n",
       "      <td>1</td>\n",
       "      <td>5337</td>\n",
       "      <td>0</td>\n",
       "      <td>0</td>\n",
       "      <td>0</td>\n",
       "      <td>0</td>\n",
       "    </tr>\n",
       "    <tr>\n",
       "      <th>4</th>\n",
       "      <td>0</td>\n",
       "      <td>80</td>\n",
       "      <td>1</td>\n",
       "      <td>1</td>\n",
       "      <td>1</td>\n",
       "      <td>1</td>\n",
       "      <td>1</td>\n",
       "      <td>37</td>\n",
       "      <td>1</td>\n",
       "      <td>6.33</td>\n",
       "      <td>...</td>\n",
       "      <td>0.00</td>\n",
       "      <td>0</td>\n",
       "      <td>234.21</td>\n",
       "      <td>2</td>\n",
       "      <td>1</td>\n",
       "      <td>2793</td>\n",
       "      <td>0</td>\n",
       "      <td>0</td>\n",
       "      <td>0</td>\n",
       "      <td>0</td>\n",
       "    </tr>\n",
       "  </tbody>\n",
       "</table>\n",
       "<p>5 rows × 34 columns</p>\n",
       "</div>"
      ],
      "text/plain": [
       "   Gender  Age  Senior Citizen  Married  Dependents  Referred a Friend  \\\n",
       "0       1   78               1        0           0                  0   \n",
       "1       0   74               1        1           1                  1   \n",
       "2       1   71               1        0           1                  0   \n",
       "3       0   78               1        1           1                  1   \n",
       "4       0   80               1        1           1                  1   \n",
       "\n",
       "   Number of Referrals  Tenure in Months  Phone Service  \\\n",
       "0                    0                 1              0   \n",
       "1                    1                 8              1   \n",
       "2                    0                18              1   \n",
       "3                    1                25              1   \n",
       "4                    1                37              1   \n",
       "\n",
       "   Avg Monthly Long Distance Charges  ...  Total Refunds  \\\n",
       "0                               0.00  ...           0.00   \n",
       "1                              48.85  ...           0.00   \n",
       "2                              11.33  ...          45.61   \n",
       "3                              19.76  ...          13.43   \n",
       "4                               6.33  ...           0.00   \n",
       "\n",
       "   Total Extra Data Charges  Total Long Distance Charges  Satisfaction Score  \\\n",
       "0                        20                         0.00                   3   \n",
       "1                         0                       390.80                   3   \n",
       "2                         0                       203.94                   2   \n",
       "3                         0                       494.00                   2   \n",
       "4                         0                       234.21                   2   \n",
       "\n",
       "   Churn Label  CLTV  Contract_One Year  Contract_Two Year  \\\n",
       "0            1  5433                  0                  0   \n",
       "1            1  5302                  0                  0   \n",
       "2            1  3179                  0                  0   \n",
       "3            1  5337                  0                  0   \n",
       "4            1  2793                  0                  0   \n",
       "\n",
       "   Payment Method_Credit Card  Payment Method_Mailed Check  \n",
       "0                           0                            0  \n",
       "1                           1                            0  \n",
       "2                           0                            0  \n",
       "3                           0                            0  \n",
       "4                           0                            0  \n",
       "\n",
       "[5 rows x 34 columns]"
      ]
     },
     "execution_count": 2,
     "metadata": {},
     "output_type": "execute_result"
    }
   ],
   "source": [
    "df =  pd.read_csv(r'D:\\#PROJECTS\\churn-project\\data\\cleaned_telco.csv')\n",
    "df.head()"
   ]
  },
  {
   "cell_type": "code",
   "execution_count": 4,
   "id": "9ac17834",
   "metadata": {},
   "outputs": [
    {
     "name": "stdout",
     "output_type": "stream",
     "text": [
      "(7043, 34)\n",
      "[1 0]\n",
      "Churn Label\n",
      "0    0.73463\n",
      "1    0.26537\n",
      "Name: proportion, dtype: float64\n",
      "Gender                               0\n",
      "Age                                  0\n",
      "Senior Citizen                       0\n",
      "Married                              0\n",
      "Dependents                           0\n",
      "Referred a Friend                    0\n",
      "Number of Referrals                  0\n",
      "Tenure in Months                     0\n",
      "Phone Service                        0\n",
      "Avg Monthly Long Distance Charges    0\n",
      "Multiple Lines                       0\n",
      "Internet Service                     0\n",
      "Avg Monthly GB Download              0\n",
      "Online Security                      0\n",
      "Online Backup                        0\n",
      "Device Protection Plan               0\n",
      "Premium Tech Support                 0\n",
      "Streaming TV                         0\n",
      "Streaming Movies                     0\n",
      "Streaming Music                      0\n",
      "dtype: int64\n"
     ]
    }
   ],
   "source": [
    "# check shapes and imbalance\n",
    "print(df.shape)\n",
    "print(df['Churn Label'].unique())\n",
    "print(df['Churn Label'].value_counts(normalize=True))\n",
    "\n",
    "# check missing\n",
    "print(df.isna().sum().sort_values(ascending=False).head(20))"
   ]
  },
  {
   "cell_type": "code",
   "execution_count": 5,
   "id": "4e36e42a",
   "metadata": {},
   "outputs": [],
   "source": [
    "from sklearn.model_selection import train_test_split\n",
    "\n",
    "X = df.drop(columns=['Churn Label'])\n",
    "y = df['Churn Label']\n",
    "\n",
    "X_train, X_test, y_train, y_test = train_test_split(\n",
    "    X, y, test_size=0.2, stratify=y, random_state=42\n",
    ")"
   ]
  },
  {
   "cell_type": "markdown",
   "id": "0a72b844",
   "metadata": {},
   "source": [
    "Baseline model"
   ]
  },
  {
   "cell_type": "code",
   "execution_count": 7,
   "id": "0e0a82b4",
   "metadata": {},
   "outputs": [
    {
     "name": "stdout",
     "output_type": "stream",
     "text": [
      "ROC AUC: 0.9868247694334651\n",
      "              precision    recall  f1-score   support\n",
      "\n",
      "           0       0.97      0.95      0.96      1035\n",
      "           1       0.88      0.92      0.90       374\n",
      "\n",
      "    accuracy                           0.94      1409\n",
      "   macro avg       0.92      0.94      0.93      1409\n",
      "weighted avg       0.95      0.94      0.94      1409\n",
      "\n"
     ]
    },
    {
     "name": "stderr",
     "output_type": "stream",
     "text": [
      "c:\\Users\\user\\AppData\\Local\\Programs\\Python\\Python313\\Lib\\site-packages\\sklearn\\linear_model\\_logistic.py:473: ConvergenceWarning: lbfgs failed to converge after 5000 iteration(s) (status=1):\n",
      "STOP: TOTAL NO. OF ITERATIONS REACHED LIMIT\n",
      "\n",
      "Increase the number of iterations to improve the convergence (max_iter=5000).\n",
      "You might also want to scale the data as shown in:\n",
      "    https://scikit-learn.org/stable/modules/preprocessing.html\n",
      "Please also refer to the documentation for alternative solver options:\n",
      "    https://scikit-learn.org/stable/modules/linear_model.html#logistic-regression\n",
      "  n_iter_i = _check_optimize_result(\n"
     ]
    }
   ],
   "source": [
    "from sklearn.linear_model import LogisticRegression\n",
    "from sklearn.metrics import classification_report, roc_auc_score\n",
    "\n",
    "lr = LogisticRegression(max_iter=5000, class_weight='balanced', random_state=42)\n",
    "lr.fit(X_train, y_train)\n",
    "\n",
    "proba = lr.predict_proba(X_test)[:,1]\n",
    "pred = (proba >= 0.5).astype(int)\n",
    "\n",
    "print(\"ROC AUC:\", roc_auc_score(y_test, proba))\n",
    "print(classification_report(y_test, pred))"
   ]
  },
  {
   "cell_type": "code",
   "execution_count": 10,
   "id": "5c9a24ee",
   "metadata": {},
   "outputs": [
    {
     "name": "stdout",
     "output_type": "stream",
     "text": [
      "\n",
      "training accuracy: 100.00%\n",
      "test accuracy: 95.81%\n"
     ]
    }
   ],
   "source": [
    "from sklearn.ensemble import RandomForestClassifier\n",
    "\n",
    "rf = RandomForestClassifier(\n",
    "    n_estimators=300,\n",
    "    max_depth=None,\n",
    "    class_weight='balanced',\n",
    "    random_state=42\n",
    ")\n",
    "rf.fit(X_train, y_train)\n",
    "\n",
    "print(f\"\\ntraining accuracy: {rf.score(X_train, y_train)*100:.2f}%\")\n",
    "print(f\"test accuracy: {rf.score(X_test, y_test)*100:.2f}%\")"
   ]
  },
  {
   "cell_type": "code",
   "execution_count": 9,
   "metadata": {},
   "outputs": [
    {
     "name": "stdout",
     "output_type": "stream",
     "text": [
      "\n",
      "training accuracy: 99.77%\n",
      "test accuracy: 95.60%\n"
     ]
    }
   ],
   "source": [
    "from xgboost import XGBClassifier\n",
    "\n",
    "xgb = XGBClassifier(\n",
    "    n_estimators=400,\n",
    "    learning_rate=0.05,\n",
    "    max_depth=5,\n",
    "    subsample=0.8,\n",
    "    colsample_bytree=0.8,\n",
    "    scale_pos_weight=3  # for imbalance\n",
    ")\n",
    "xgb.fit(X_train, y_train)\n",
    "print(f\"\\ntraining accuracy: {xgb.score(X_train, y_train)*100:.2f}%\")\n",
    "print(f\"test accuracy: {xgb.score(X_test, y_test)*100:.2f}%\")"
   ]
  },
  {
   "cell_type": "code",
   "execution_count": 15,
   "id": "118f417b",
   "metadata": {},
   "outputs": [
    {
     "data": {
      "image/png": "[encoded data removed]",
      "text/plain": [
       "<Figure size 500x400 with 2 Axes>"
      ]
     },
     "metadata": {},
     "output_type": "display_data"
    },
    {
     "data": {
      "image/png": "[encoded data removed]",
      "text/plain": [
       "<Figure size 500x400 with 1 Axes>"
      ]
     },
     "metadata": {},
     "output_type": "display_data"
    },
    {
     "data": {
      "image/png": "[encoded data removed]",
      "text/plain": [
       "<Figure size 600x600 with 1 Axes>"
      ]
     },
     "metadata": {},
     "output_type": "display_data"
    }
   ],
   "source": [
    "from sklearn.metrics import confusion_matrix, ConfusionMatrixDisplay\n",
    "\n",
    "y_pred = rf.predict(X_test)\n",
    "\n",
    "\n",
    "cm = confusion_matrix(y_test, y_pred)\n",
    "\n",
    "plt.figure(figsize=(5,4))\n",
    "sns.heatmap(cm, annot=True, fmt=\"d\", cmap=\"Blues\")\n",
    "plt.title(\"Random Forest Confusion Matrix\")\n",
    "plt.xlabel(\"Predicted\")\n",
    "plt.ylabel(\"Actual\")\n",
    "plt.show()\n",
    "\n",
    "\n",
    "\n",
    "#  ROC \n",
    "from sklearn.metrics import roc_curve, auc\n",
    "\n",
    "y_prob = rf.predict_proba(X_test)[:,1]\n",
    "\n",
    "fpr, tpr, _ = roc_curve(y_test, y_prob)\n",
    "roc_auc = auc(fpr, tpr)\n",
    "\n",
    "plt.figure(figsize=(5,4))\n",
    "plt.plot(fpr, tpr, label=f\"AUC = {roc_auc:.2f}\")\n",
    "plt.plot([0,1],[0,1],'--')\n",
    "plt.title(\"Random Forest ROC Curve\")\n",
    "plt.xlabel(\"False Positive Rate\")\n",
    "plt.ylabel(\"True Positive Rate\")\n",
    "plt.legend()\n",
    "plt.show()\n",
    "\n",
    "\n",
    "\n",
    "\n",
    "# Feature Importance Plot\n",
    "feat_importances = pd.Series(rf.feature_importances_, index=X_train.columns)\n",
    "feat_importances.nlargest(15).plot(kind='barh', figsize=(6,6))\n",
    "plt.title(\"Top 15 Feature Importances (Random Forest)\")\n",
    "plt.show()\n"
   ]
  },
  {
   "cell_type": "code",
   "execution_count": 16,
   "id": "2e8de130",
   "metadata": {},
   "outputs": [
    {
     "name": "stdout",
     "output_type": "stream",
     "text": [
      "Satisfaction Score            0.412594\n",
      "Internet Service              0.140418\n",
      "Online Security               0.102271\n",
      "Contract_Two Year             0.059846\n",
      "Number of Referrals           0.039690\n",
      "Contract_One Year             0.038023\n",
      "Dependents                    0.021681\n",
      "Payment Method_Credit Card    0.015311\n",
      "Tenure in Months              0.011494\n",
      "Senior Citizen                0.011440\n",
      "Premium Tech Support          0.010589\n",
      "Streaming Movies              0.010120\n",
      "Paperless Billing             0.009221\n",
      "Referred a Friend             0.008642\n",
      "Monthly Charge                0.008601\n",
      "dtype: float32\n"
     ]
    }
   ],
   "source": [
    "importances = xgb.feature_importances_\n",
    "features = pd.Series(importances, index=X_train.columns).sort_values(ascending=False)\n",
    "print(features.head(15))"
   ]
  },
  {
   "cell_type": "code",
   "execution_count": 17,
   "id": "e50fa749",
   "metadata": {},
   "outputs": [
    {
     "name": "stdout",
     "output_type": "stream",
     "text": [
      "Satisfaction Score                   0.435677\n",
      "Contract_Two Year                    0.060143\n",
      "Number of Referrals                  0.056193\n",
      "Tenure in Months                     0.054453\n",
      "Monthly Charge                       0.046461\n",
      "Total Charges                        0.042775\n",
      "Total Long Distance Charges          0.036409\n",
      "Avg Monthly GB Download              0.031441\n",
      "CLTV                                 0.024393\n",
      "Dependents                           0.024286\n",
      "Age                                  0.024092\n",
      "Avg Monthly Long Distance Charges    0.022050\n",
      "Online Security                      0.019830\n",
      "Contract_One Year                    0.019023\n",
      "Internet Service                     0.015568\n",
      "dtype: float64\n"
     ]
    }
   ],
   "source": [
    "importances = rf.feature_importances_\n",
    "features = pd.Series(importances, index=X_train.columns).sort_values(ascending=False)\n",
    "print(features.head(15))"
   ]
  },
  {
   "cell_type": "code",
   "execution_count": 22,
   "id": "a00e312e",
   "metadata": {},
   "outputs": [],
   "source": [
    "from sklearn.preprocessing import StandardScaler\n",
    "scaler = StandardScaler()\n",
    "X_train = scaler.fit_transform(X_train)\n",
    "X_test = scaler.transform(X_test)"
   ]
  },
  {
   "cell_type": "code",
   "execution_count": 25,
   "id": "029e2c82",
   "metadata": {},
   "outputs": [
    {
     "data": {
      "text/plain": [
       "['models/model_features.pkl']"
      ]
     },
     "execution_count": 25,
     "metadata": {},
     "output_type": "execute_result"
    }
   ],
   "source": [
    "import joblib\n",
    "import os\n",
    "\n",
    "os.makedirs(\"models\", exist_ok=True)\n",
    "\n",
    "joblib.dump(rf, \"models/churn_model.pkl\")\n",
    "joblib.dump(scaler, \"models/scaler.pkl\")\n",
    "feature_list = df.drop(\"Churn Label\", axis=1).columns.to_list()\n",
    "joblib.dump(feature_list, \"models/model_features.pkl\")"
   ]
  }
 ],
 "metadata": {
  "kernelspec": {
   "display_name": "Python 3",
   "language": "python",
   "name": "python3"
  },
  "language_info": {
   "codemirror_mode": {
    "name": "ipython",
    "version": 3
   },
   "file_extension": ".py",
   "mimetype": "text/x-python",
   "name": "python",
   "nbconvert_exporter": "python",
   "pygments_lexer": "ipython3",
   "version": "3.13.7"
  }
 },
 "nbformat": 4,
 "nbformat_minor": 5
}
